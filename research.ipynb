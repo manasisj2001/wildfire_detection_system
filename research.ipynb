{
 "cells": [
  {
   "cell_type": "code",
   "execution_count": 1,
   "metadata": {
    "colab": {
     "autoexec": {
      "startup": false,
      "wait_interval": 0
     },
     "base_uri": "https://localhost:8080/",
     "height": 34,
     "output_extras": [
      {
       "item_id": 1
      }
     ]
    },
    "colab_type": "code",
    "executionInfo": {
     "elapsed": 2826,
     "status": "ok",
     "timestamp": 1521135226290,
     "user": {
      "displayName": "Pavan Reddy",
      "photoUrl": "https://lh3.googleusercontent.com/a/default-user=s128",
      "userId": "114419219091991855526"
     },
     "user_tz": 300
    },
    "id": "Zh9-NTPOt-cb",
    "outputId": "eea5b1a4-6175-49c2-c67a-848073e29be4"
   },
   "outputs": [
    {
     "name": "stderr",
     "output_type": "stream",
     "text": [
      "C:\\Users\\Admin\\AppData\\Local\\Programs\\Python\\Python310\\lib\\site-packages\\requests\\__init__.py:102: RequestsDependencyWarning: urllib3 (1.26.12) or chardet (5.0.0)/charset_normalizer (2.0.12) doesn't match a supported version!\n",
      "  warnings.warn(\"urllib3 ({}) or chardet ({})/charset_normalizer ({}) doesn't match a supported \"\n"
     ]
    }
   ],
   "source": [
    "from keras.models import Sequential\n",
    "from keras.layers import Conv2D\n",
    "from keras.layers import MaxPooling2D\n",
    "from keras.layers import Flatten\n",
    "from keras.layers import Dense"
   ]
  },
  {
   "cell_type": "code",
   "execution_count": 2,
   "metadata": {
    "colab": {
     "autoexec": {
      "startup": false,
      "wait_interval": 0
     }
    },
    "colab_type": "code",
    "id": "SCLX9f5iuWXi"
   },
   "outputs": [],
   "source": [
    "classifier = Sequential()"
   ]
  },
  {
   "cell_type": "code",
   "execution_count": 3,
   "metadata": {
    "colab": {
     "autoexec": {
      "startup": false,
      "wait_interval": 0
     }
    },
    "colab_type": "code",
    "id": "EGPb7kZxucTz"
   },
   "outputs": [],
   "source": [
    "classifier.add(Conv2D(32, (3, 3), input_shape = (64, 64, 3), activation = 'relu'))"
   ]
  },
  {
   "cell_type": "code",
   "execution_count": 4,
   "metadata": {
    "colab": {
     "autoexec": {
      "startup": false,
      "wait_interval": 0
     }
    },
    "colab_type": "code",
    "id": "pBLIwS7IuuEG"
   },
   "outputs": [],
   "source": [
    "classifier.add(MaxPooling2D(pool_size = (2, 2)))"
   ]
  },
  {
   "cell_type": "code",
   "execution_count": 5,
   "metadata": {
    "colab": {
     "autoexec": {
      "startup": false,
      "wait_interval": 0
     }
    },
    "colab_type": "code",
    "id": "AY7moE1xvPjC"
   },
   "outputs": [],
   "source": [
    "classifier.add(Flatten())"
   ]
  },
  {
   "cell_type": "code",
   "execution_count": 6,
   "metadata": {
    "colab": {
     "autoexec": {
      "startup": false,
      "wait_interval": 0
     }
    },
    "colab_type": "code",
    "id": "kEYetj7TvSOO"
   },
   "outputs": [],
   "source": [
    "classifier.add(Dense(units = 128, activation = 'relu'))"
   ]
  },
  {
   "cell_type": "code",
   "execution_count": 7,
   "metadata": {
    "colab": {
     "autoexec": {
      "startup": false,
      "wait_interval": 0
     }
    },
    "colab_type": "code",
    "id": "a6ff8cfKvVb7"
   },
   "outputs": [],
   "source": [
    "classifier.add(Dense(units = 1, activation = 'sigmoid'))"
   ]
  },
  {
   "cell_type": "code",
   "execution_count": 8,
   "metadata": {
    "colab": {
     "autoexec": {
      "startup": false,
      "wait_interval": 0
     }
    },
    "colab_type": "code",
    "id": "VHpDBG4xvZpd"
   },
   "outputs": [],
   "source": [
    "classifier.compile(optimizer = 'adam', loss = 'binary_crossentropy', metrics = ['accuracy'])"
   ]
  },
  {
   "cell_type": "code",
   "execution_count": 9,
   "metadata": {
    "colab": {
     "autoexec": {
      "startup": false,
      "wait_interval": 0
     }
    },
    "colab_type": "code",
    "id": "mb3ebWIewFvZ"
   },
   "outputs": [],
   "source": [
    "from keras.preprocessing.image import ImageDataGenerator"
   ]
  },
  {
   "cell_type": "code",
   "execution_count": 10,
   "metadata": {
    "colab": {
     "autoexec": {
      "startup": false,
      "wait_interval": 0
     },
     "base_uri": "https://localhost:8080/",
     "height": 51,
     "output_extras": [
      {
       "item_id": 1
      }
     ]
    },
    "colab_type": "code",
    "executionInfo": {
     "elapsed": 998,
     "status": "ok",
     "timestamp": 1521136669332,
     "user": {
      "displayName": "Pavan Reddy",
      "photoUrl": "https://lh3.googleusercontent.com/a/default-user=s128",
      "userId": "114419219091991855526"
     },
     "user_tz": 300
    },
    "id": "A_si9yhcvcxW",
    "outputId": "2d1f132d-000f-4221-a2e2-5e97c45143c1"
   },
   "outputs": [
    {
     "name": "stdout",
     "output_type": "stream",
     "text": [
      "Found 1520 images belonging to 2 classes.\n",
      "Found 0 images belonging to 0 classes.\n"
     ]
    }
   ],
   "source": [
    "train_datagen = ImageDataGenerator(rescale = 1./255,\n",
    "shear_range = 0.2,\n",
    "zoom_range = 0.2,\n",
    "horizontal_flip = True)\n",
    "test_datagen = ImageDataGenerator(rescale = 1./255)\n",
    "training_set = train_datagen.flow_from_directory('dataset/Training',target_size = (64, 64),batch_size = 32,class_mode = 'binary')\n",
    "test_set = test_datagen.flow_from_directory('dataset/testing',target_size = (64, 64),batch_size = 32,class_mode = 'binary')\n",
    "\n"
   ]
  },
  {
   "cell_type": "code",
   "execution_count": 11,
   "metadata": {
    "colab": {
     "autoexec": {
      "startup": false,
      "wait_interval": 0
     },
     "base_uri": "https://localhost:8080/",
     "height": 121,
     "output_extras": [
      {
       "item_id": 578
      },
      {
       "item_id": 775
      },
      {
       "item_id": 776
      }
     ]
    },
    "colab_type": "code",
    "executionInfo": {
     "elapsed": 323017,
     "status": "ok",
     "timestamp": 1521137544403,
     "user": {
      "displayName": "Pavan Reddy",
      "photoUrl": "https://lh3.googleusercontent.com/a/default-user=s128",
      "userId": "114419219091991855526"
     },
     "user_tz": 300
    },
    "id": "HCQvk47KvtlQ",
    "outputId": "5446b881-c4af-453d-e214-bf00ea9805d0"
   },
   "outputs": [
    {
     "name": "stderr",
     "output_type": "stream",
     "text": [
      "C:\\Users\\Admin\\AppData\\Local\\Temp\\ipykernel_7780\\1808027795.py:1: UserWarning: `Model.fit_generator` is deprecated and will be removed in a future version. Please use `Model.fit`, which supports generators.\n",
      "  classifier.fit_generator(training_set,\n"
     ]
    },
    {
     "name": "stdout",
     "output_type": "stream",
     "text": [
      "Epoch 1/2\n",
      " 48/500 [=>............................] - ETA: 5:46 - loss: 0.3976 - accuracy: 0.8796WARNING:tensorflow:Your input ran out of data; interrupting training. Make sure that your dataset or generator can generate at least `steps_per_epoch * epochs` batches (in this case, 1000 batches). You may need to use the repeat() function when building your dataset.\n",
      "500/500 [==============================] - 44s 75ms/step - loss: 0.3976 - accuracy: 0.8796\n"
     ]
    },
    {
     "data": {
      "text/plain": [
       "<keras.callbacks.History at 0x2412b680460>"
      ]
     },
     "execution_count": 11,
     "metadata": {},
     "output_type": "execute_result"
    }
   ],
   "source": [
    "classifier.fit_generator(training_set,\n",
    "                         steps_per_epoch = 500,\n",
    "                         epochs = 2,\n",
    "                         validation_data = test_set,\n",
    "                         validation_steps = 200)"
   ]
  },
  {
   "cell_type": "code",
   "execution_count": 12,
   "metadata": {},
   "outputs": [],
   "source": [
    "classifier.save('models/classifier.h5')"
   ]
  },
  {
   "cell_type": "code",
   "execution_count": 13,
   "metadata": {
    "colab": {
     "autoexec": {
      "startup": false,
      "wait_interval": 0
     },
     "base_uri": "https://localhost:8080/",
     "height": 34,
     "output_extras": [
      {
       "item_id": 1
      }
     ]
    },
    "colab_type": "code",
    "executionInfo": {
     "elapsed": 958,
     "status": "ok",
     "timestamp": 1521137998992,
     "user": {
      "displayName": "Pavan Reddy",
      "photoUrl": "https://lh3.googleusercontent.com/a/default-user=s128",
      "userId": "114419219091991855526"
     },
     "user_tz": 300
    },
    "id": "b0Gc7BTMyMgu",
    "outputId": "ef33370e-b5a4-4914-b1f5-30605e3ea1a6"
   },
   "outputs": [
    {
     "name": "stdout",
     "output_type": "stream",
     "text": [
      "1/1 [==============================] - 0s 156ms/step\n",
      "1/1 [==============================] - 0s 24ms/step\n",
      "1/1 [==============================] - 0s 24ms/step\n",
      "img3 =  True\n",
      "img3 =  True\n",
      "img3 =  True\n"
     ]
    }
   ],
   "source": [
    "from keras.models import load_model\n",
    "# returns a compiled model\n",
    "# identical to the previous one\n",
    "# classifier = load_model('classifier.h5')\n",
    "\n",
    "import numpy as np\n",
    "# from keras.preprocessing import image\n",
    "from tensorflow.keras.preprocessing import image\n",
    "def predict(img_path):\n",
    "    test_image = image.load_img(img_path, target_size = (64, 64))\n",
    "    test_image = image.img_to_array(test_image)\n",
    "    test_image = np.expand_dims(test_image, axis = 0)\n",
    "    result = classifier.predict(test_image)\n",
    "    training_set.class_indices\n",
    "    if result[0][0] == 1:\n",
    "        prediction = 'notfire'\n",
    "        return False\n",
    "    else:\n",
    "        prediction = 'fire'\n",
    "        return True\n",
    "\n",
    "\n",
    "img3 = predict('dataset/Testing/fire_0002.jpg')\n",
    "img8 = predict('dataset/Testing/fire_0124.jpg')\n",
    "img11 = predict('dataset/Testing/fire_0300.jpg')\n",
    "print(\"img3 = \", img3)\n",
    "print(\"img3 = \", img3)\n",
    "print(\"img3 = \", img3)"
   ]
  },
  {
   "cell_type": "code",
   "execution_count": 14,
   "metadata": {},
   "outputs": [],
   "source": [
    "import numpy as np\n",
    "import scipy as sp\n",
    "import cv2\n",
    "# from keras.preprocessing import image\n",
    "from tensorflow.keras.preprocessing import image\n",
    "def predict_part(inp_arr_image):\n",
    "    test_image = cv2.resize(inp_arr_image, (64,64))\n",
    "    test_image = np.expand_dims(test_image, axis = 0)\n",
    "    result = classifier.predict(test_image)\n",
    "    training_set.class_indices\n",
    "    if result[0][0] == 1:\n",
    "        prediction = 'notfire'\n",
    "        return False\n",
    "    else:\n",
    "        prediction = 'fire'\n",
    "        return True\n",
    "\n",
    "test_image = image.load_img('dataset/Testing/fire_0271.jpg')\n",
    "test_image = image.img_to_array(test_image)\n",
    "# test_image = np.array(test_image, np.int32)\n",
    "# predict_part(test_image[0:100, 0:100, :])"
   ]
  },
  {
   "cell_type": "code",
   "execution_count": 15,
   "metadata": {},
   "outputs": [],
   "source": [
    "%matplotlib inline"
   ]
  },
  {
   "cell_type": "code",
   "execution_count": 16,
   "metadata": {},
   "outputs": [],
   "source": [
    "import matplotlib.pyplot as plt"
   ]
  },
  {
   "cell_type": "code",
   "execution_count": 17,
   "metadata": {},
   "outputs": [],
   "source": [
    "# from keras.preprocessing.image import ImageDataGenerator, load_img, img_to_array\n",
    "# from PIL import Image\n",
    "from tensorflow.keras.preprocessing.image import ImageDataGenerator, load_img, img_to_array\n",
    "from PIL import Image\n"
   ]
  },
  {
   "cell_type": "code",
   "execution_count": 18,
   "metadata": {
    "colab": {
     "autoexec": {
      "startup": false,
      "wait_interval": 0
     },
     "base_uri": "https://localhost:8080/",
     "height": 34,
     "output_extras": [
      {
       "item_id": 1
      }
     ]
    },
    "colab_type": "code",
    "executionInfo": {
     "elapsed": 1220,
     "status": "ok",
     "timestamp": 1521137852463,
     "user": {
      "displayName": "Pavan Reddy",
      "photoUrl": "https://lh3.googleusercontent.com/a/default-user=s128",
      "userId": "114419219091991855526"
     },
     "user_tz": 300
    },
    "id": "C6WCFTay3yxY",
    "outputId": "fe0bc129-0666-459f-fc3d-0880184539a8"
   },
   "outputs": [
    {
     "name": "stdout",
     "output_type": "stream",
     "text": [
      "(250, 250, 3)\n"
     ]
    },
    {
     "ename": "NameError",
     "evalue": "name 'get_img_array' is not defined",
     "output_type": "error",
     "traceback": [
      "\u001b[1;31m---------------------------------------------------------------------------\u001b[0m",
      "\u001b[1;31mNameError\u001b[0m                                 Traceback (most recent call last)",
      "Input \u001b[1;32mIn [18]\u001b[0m, in \u001b[0;36m<cell line: 16>\u001b[1;34m()\u001b[0m\n\u001b[0;32m     12\u001b[0m \u001b[38;5;28mprint\u001b[39m(test_image\u001b[38;5;241m.\u001b[39mshape)\n\u001b[0;32m     13\u001b[0m \u001b[38;5;66;03m# cv2.resize(test_image, )\u001b[39;00m\n\u001b[0;32m     14\u001b[0m \u001b[38;5;66;03m# test_image = cv2.resize(test_image, (128, 128))\u001b[39;00m\n\u001b[0;32m     15\u001b[0m \u001b[38;5;66;03m# plot_image(test_image)\u001b[39;00m\n\u001b[1;32m---> 16\u001b[0m no_img \u001b[38;5;241m=\u001b[39m \u001b[43mget_img_array\u001b[49m(\u001b[38;5;124m'\u001b[39m\u001b[38;5;124mdataset/Testing/nofire_0679.jpg\u001b[39m\u001b[38;5;124m'\u001b[39m)\n\u001b[0;32m     17\u001b[0m no_img \u001b[38;5;241m=\u001b[39m cv2\u001b[38;5;241m.\u001b[39mresize(fire_img, (\u001b[38;5;241m750\u001b[39m, \u001b[38;5;241m500\u001b[39m) ) \u001b[38;5;66;03m#(750, 500)\u001b[39;00m\n\u001b[0;32m     18\u001b[0m \u001b[38;5;66;03m# fire_img = cv2.resize(fire_img, (1000, 1000) ) #(750, 500)\u001b[39;00m\n\u001b[0;32m     19\u001b[0m \u001b[38;5;66;03m# fire_img = cv2.resize(fire_img, (750, 500) ) #(750, 500)\u001b[39;00m\n",
      "\u001b[1;31mNameError\u001b[0m: name 'get_img_array' is not defined"
     ]
    }
   ],
   "source": [
    "def plot_image(img_array):\n",
    "    img = np.array(img_array, np.int32)\n",
    "    plt.imshow(img)\n",
    "    \n",
    "\n",
    "test_image = image.load_img('dataset/Testing/fire_0002.jpg')\n",
    "test_image = image.img_to_array(test_image)\n",
    "\n",
    "# plt.imshow(test_image[0:100, 0:100, :])\n",
    "# print(test_image.shape)\n",
    "# predict(test_image[0:100, 0:100, :])\n",
    "print(test_image.shape)\n",
    "# cv2.resize(test_image, )\n",
    "# test_image = cv2.resize(test_image, (128, 128))\n",
    "# plot_image(test_image)\n",
    "no_img = get_img_array('dataset/Testing/nofire_0679.jpg')\n",
    "no_img = cv2.resize(fire_img, (750, 500) ) #(750, 500)\n",
    "# fire_img = cv2.resize(fire_img, (1000, 1000) ) #(750, 500)\n",
    "# fire_img = cv2.resize(fire_img, (750, 500) ) #(750, 500)\n",
    "plot_image(fire_img)\n",
    "print(fire_img.shape)"
   ]
  },
  {
   "cell_type": "code",
   "execution_count": null,
   "metadata": {
    "colab": {
     "autoexec": {
      "startup": false,
      "wait_interval": 0
     }
    },
    "colab_type": "code",
    "id": "GunlagAd37UU"
   },
   "outputs": [],
   "source": [
    "test_image = image.load_img('Data/sat/image3.jpg')\n",
    "test_image = image.img_to_array(test_image)\n",
    "\n",
    "# plt.figure()\n",
    "# plt.subplot(121), plt.imshow(a), plt.title(title1)\n",
    "# plt.show()  \n",
    "def get_cells_img(np_arr_img, n=64): # considers all n X n grids\n",
    "    sub_imgs = []\n",
    "    for row in range((np_arr_img.shape[0]//n)+1):\n",
    "        for col in range((np_arr_img.shape[1]//n)+1):\n",
    "            c_0 = col*n\n",
    "            c_1 = min((c_0+n), np_arr_img.shape[1])\n",
    "            r_0 = row*n\n",
    "            r_1 = min((r_0+n), np_arr_img.shape[0])\n",
    "    #         print(c_0, c_1, \" | \", r_0, r_1)\n",
    "            sub_imgs.append(np_arr_img[r_0:r_1, c_0:c_1,: ])\n",
    "    return sub_imgs\n",
    "\n",
    "def get_img_array(path):\n",
    "    img = image.load_img(path)\n",
    "    return image.img_to_array(img)\n",
    "\n",
    "fire_img = get_img_array('Data/sat/image11.jpg')\n",
    "no_img = get_img_array('Data/sat/no_fire.jpg')\n",
    "\n",
    "fire_img = cv2.resize(fire_img, (750, 500) )\n",
    "no_img = cv2.resize(no_img, (750, 500) )\n",
    "\n",
    "fire_pred = [predict_part(img) for img in get_cells_img(fire_img, n=128)]\n",
    "no_fire_pred = [predict_part(img) for img in get_cells_img(no_img, n=128)]"
   ]
  },
  {
   "cell_type": "code",
   "execution_count": null,
   "metadata": {},
   "outputs": [],
   "source": [
    "fire_img_cells = get_cells_img(fire_img, 128)\n",
    "no_fire_img_cells = get_cells_img(no_img, 128)\n",
    "print(fire_img.shape)\n",
    "print(no_img.shape)\n",
    "print(len(fire_img_cells))\n",
    "print(len(no_fire_img_cells))\n",
    "# for i in x:\n",
    "#     print(i.shape)"
   ]
  },
  {
   "cell_type": "code",
   "execution_count": null,
   "metadata": {},
   "outputs": [],
   "source": [
    "fire_img_cells[0].shape"
   ]
  },
  {
   "cell_type": "code",
   "execution_count": null,
   "metadata": {},
   "outputs": [],
   "source": [
    "import pandas as pd\n",
    "\n",
    "# def ratio(series):\n",
    "#     print(\"fire ratio: \", series.value_counts()[True]/(series.value_counts()[True]+series.value_counts()[False]) )\n",
    "    \n",
    "# pn = pd.Series(no_fire_pred)\n",
    "# py = pd.Series(fire_pred)\n",
    "\n",
    "# print(\"fire\", '*'*20)\n",
    "# print(py.value_counts())\n",
    "# ratio(py)\n",
    "\n",
    "# print(\"no fire\", '*'*20)\n",
    "# print(pn.value_counts())\n",
    "# ratio(pn)\n",
    "fire_cnt = 0\n",
    "for p in no_fire_pred:\n",
    "        if p:\n",
    "            fire_cnt += 1\n",
    "\n",
    "no_cnt = len(fire_pred) - fire_cnt\n",
    "\n",
    "print(\"Fire: \", fire_cnt, \"non-fire:\", no_cnt)"
   ]
  },
  {
   "cell_type": "code",
   "execution_count": null,
   "metadata": {},
   "outputs": [],
   "source": [
    "print((500*750)/(64*64))\n",
    "test_image =get_img_array('Data/sat/image3.jpg')\n",
    "print(test_image.shape)"
   ]
  },
  {
   "cell_type": "code",
   "execution_count": null,
   "metadata": {},
   "outputs": [],
   "source": [
    "def plot_images(img, labels, nrows, ncols):\n",
    "    \"\"\" Plot nrows x ncols images\n",
    "    \"\"\"\n",
    "    fig, axes = plt.subplots(nrows, ncols)\n",
    "    print(len(axes.flat))\n",
    "    for i, ax in enumerate(axes.flat): \n",
    "#         if img[i].shape == (32, 32, 3):\n",
    "        ax.imshow(img[i])\n",
    "#         else:\n",
    "#             ax.imshow(img[i,:,:,0])\n",
    "        ax.set_xticks([]); ax.set_yticks([])\n",
    "        ax.set_title(labels[i])\n",
    "plt_sub_imgs = [np.array(img, np.int32) for img in sub_imgs]\n",
    "plot_images(plt_sub_imgs[:25], preds[:25], 5, 5)"
   ]
  },
  {
   "cell_type": "code",
   "execution_count": null,
   "metadata": {},
   "outputs": [],
   "source": [
    "fire_cells = []\n",
    "for i, p in enumerate(no_fire_pred):\n",
    "    if p == True:\n",
    "        fire_cells.append(no_fire_img_cells[i])\n",
    "        \n",
    "plt_sub_imgs = [np.array(img, np.int32) for img in fire_cells]\n",
    "print(len(plt_sub_imgs))\n",
    "plot_images(plt_sub_imgs[:], np.arange(len(plt_sub_imgs)), 2,11)"
   ]
  },
  {
   "cell_type": "code",
   "execution_count": null,
   "metadata": {},
   "outputs": [],
   "source": [
    "# for c in plt_sub_imgs[0]:\n",
    "plt.imshow(np.array(fire_img[:-64,:-64,:], np.int32))"
   ]
  },
  {
   "cell_type": "code",
   "execution_count": null,
   "metadata": {},
   "outputs": [],
   "source": []
  }
 ],
 "metadata": {
  "colab": {
   "default_view": {},
   "name": "fight_fire_.ipynb",
   "provenance": [],
   "version": "0.3.2",
   "views": {}
  },
  "kernelspec": {
   "display_name": "Python 3 (ipykernel)",
   "language": "python",
   "name": "python3"
  },
  "language_info": {
   "codemirror_mode": {
    "name": "ipython",
    "version": 3
   },
   "file_extension": ".py",
   "mimetype": "text/x-python",
   "name": "python",
   "nbconvert_exporter": "python",
   "pygments_lexer": "ipython3",
   "version": "3.10.4"
  }
 },
 "nbformat": 4,
 "nbformat_minor": 1
}
